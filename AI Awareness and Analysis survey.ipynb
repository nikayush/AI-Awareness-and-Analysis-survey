{
 "cells": [
  {
   "cell_type": "code",
   "execution_count": 2,
   "id": "884230d0-f3ff-4d25-ba58-545ce28077ab",
   "metadata": {},
   "outputs": [
    {
     "name": "stdout",
     "output_type": "stream",
     "text": [
      "\n"
     ]
    }
   ],
   "source": [
    "from gc import collect; # garbage collection to free up memory\n",
    "from warnings import filterwarnings; # handle warning messages\n",
    "\n",
    "import pandas as pd # data processing, CSV file I/O (e.g. pd.read_csv)\n",
    "import numpy as np # linear algebra\n",
    "\n",
    "import matplotlib.pyplot as plt # data visualization\n",
    "import seaborn as sns # statistical data visualization\n",
    "\n",
    "# Set the plot style to 'fivethirtyeight'\n",
    "plt.style.use(\"fivethirtyeight\")\n",
    "\n",
    "from datetime import datetime  # Importing the datetime class from the datetime module\n",
    "\n",
    "from scipy import stats # statistical functions\n",
    "\n",
    "filterwarnings('ignore'); # Ignore warning messages\n",
    "from IPython.display import display_html, clear_output; # displaying HTML content\n",
    "\n",
    "clear_output();\n",
    "print();\n",
    "collect();"
   ]
  },
  {
   "cell_type": "code",
   "execution_count": 4,
   "id": "1a8f03cf-70c9-4fa6-af5c-7971d3b92b7f",
   "metadata": {},
   "outputs": [
    {
     "data": {
      "text/html": [
       "<div>\n",
       "<style scoped>\n",
       "    .dataframe tbody tr th:only-of-type {\n",
       "        vertical-align: middle;\n",
       "    }\n",
       "\n",
       "    .dataframe tbody tr th {\n",
       "        vertical-align: top;\n",
       "    }\n",
       "\n",
       "    .dataframe thead th {\n",
       "        text-align: right;\n",
       "    }\n",
       "</style>\n",
       "<table border=\"1\" class=\"dataframe\">\n",
       "  <thead>\n",
       "    <tr style=\"text-align: right;\">\n",
       "      <th></th>\n",
       "      <th>Timestamp</th>\n",
       "      <th>On a scale from 1 to 5, how would you rate your knowledge and understanding of Artificial Intelligence (AI)?</th>\n",
       "      <th>On a scale from 1 to 5, how often do you use Artificial Intelligence (AI) for personal use?</th>\n",
       "      <th>On a scale from 1 to 5, how often do you use Artificial Intelligence (AI) for school-related tasks?</th>\n",
       "      <th>On a scale from 1 to 5, how interested are you in pursuing a career in Artificial Intelligence?</th>\n",
       "      <th>Do you know what Chat-GPT is?</th>\n",
       "      <th>What college are you in?</th>\n",
       "    </tr>\n",
       "  </thead>\n",
       "  <tbody>\n",
       "    <tr>\n",
       "      <th>0</th>\n",
       "      <td>2023-03-31 19:59:11.443</td>\n",
       "      <td>5</td>\n",
       "      <td>5</td>\n",
       "      <td>5</td>\n",
       "      <td>5</td>\n",
       "      <td>Yes</td>\n",
       "      <td>Science, Engineering, &amp; Technology</td>\n",
       "    </tr>\n",
       "    <tr>\n",
       "      <th>1</th>\n",
       "      <td>2023-03-31 19:59:44.970</td>\n",
       "      <td>4</td>\n",
       "      <td>3</td>\n",
       "      <td>4</td>\n",
       "      <td>4</td>\n",
       "      <td>Yes</td>\n",
       "      <td>Science, Engineering, &amp; Technology</td>\n",
       "    </tr>\n",
       "    <tr>\n",
       "      <th>2</th>\n",
       "      <td>2023-03-31 20:06:24.653</td>\n",
       "      <td>3</td>\n",
       "      <td>3</td>\n",
       "      <td>5</td>\n",
       "      <td>1</td>\n",
       "      <td>No</td>\n",
       "      <td>Business</td>\n",
       "    </tr>\n",
       "    <tr>\n",
       "      <th>3</th>\n",
       "      <td>2023-03-31 20:10:54.939</td>\n",
       "      <td>4</td>\n",
       "      <td>3</td>\n",
       "      <td>5</td>\n",
       "      <td>2</td>\n",
       "      <td>Yes</td>\n",
       "      <td>Business</td>\n",
       "    </tr>\n",
       "    <tr>\n",
       "      <th>4</th>\n",
       "      <td>2023-03-31 20:14:34.488</td>\n",
       "      <td>5</td>\n",
       "      <td>2</td>\n",
       "      <td>1</td>\n",
       "      <td>5</td>\n",
       "      <td>Yes</td>\n",
       "      <td>Humanities &amp; Social Sciences</td>\n",
       "    </tr>\n",
       "  </tbody>\n",
       "</table>\n",
       "</div>"
      ],
      "text/plain": [
       "                Timestamp  \\\n",
       "0 2023-03-31 19:59:11.443   \n",
       "1 2023-03-31 19:59:44.970   \n",
       "2 2023-03-31 20:06:24.653   \n",
       "3 2023-03-31 20:10:54.939   \n",
       "4 2023-03-31 20:14:34.488   \n",
       "\n",
       "   On a scale from 1 to 5, how would you rate your knowledge and understanding of Artificial Intelligence (AI)?  \\\n",
       "0                                                  5                                                              \n",
       "1                                                  4                                                              \n",
       "2                                                  3                                                              \n",
       "3                                                  4                                                              \n",
       "4                                                  5                                                              \n",
       "\n",
       "   On a scale from 1 to 5, how often do you use Artificial Intelligence (AI) for personal use?  \\\n",
       "0                                                  5                                             \n",
       "1                                                  3                                             \n",
       "2                                                  3                                             \n",
       "3                                                  3                                             \n",
       "4                                                  2                                             \n",
       "\n",
       "   On a scale from 1 to 5, how often do you use Artificial Intelligence (AI) for school-related tasks?  \\\n",
       "0                                                  5                                                     \n",
       "1                                                  4                                                     \n",
       "2                                                  5                                                     \n",
       "3                                                  5                                                     \n",
       "4                                                  1                                                     \n",
       "\n",
       "   On a scale from 1 to 5, how interested are you in pursuing a career in Artificial Intelligence?  \\\n",
       "0                                                  5                                                 \n",
       "1                                                  4                                                 \n",
       "2                                                  1                                                 \n",
       "3                                                  2                                                 \n",
       "4                                                  5                                                 \n",
       "\n",
       "  Do you know what Chat-GPT is?            What college are you in?  \n",
       "0                           Yes  Science, Engineering, & Technology  \n",
       "1                           Yes  Science, Engineering, & Technology  \n",
       "2                            No                            Business  \n",
       "3                           Yes                            Business  \n",
       "4                           Yes        Humanities & Social Sciences  "
      ]
     },
     "execution_count": 4,
     "metadata": {},
     "output_type": "execute_result"
    }
   ],
   "source": [
    "data = pd.read_excel('C:/Users/thomb/Pictures/AI.xlsx')\n",
    "data.head()"
   ]
  },
  {
   "cell_type": "code",
   "execution_count": 6,
   "id": "9ae44960-6b20-4356-8eec-4d6d2ca1ccbd",
   "metadata": {},
   "outputs": [],
   "source": [
    "new_column_names = {\n",
    "    'Timestamp': 'response_timestamp',\n",
    "    'On a scale from 1 to 5, how would you rate your knowledge and understanding of Artificial Intelligence (AI)?': 'ai_knowledge_rating',\n",
    "    'On a scale from 1 to 5, how often do you use Artificial Intelligence (AI) for personal use?': 'ai_personal_use_frequency',\n",
    "    'On a scale from 1 to 5, how often do you use Artificial Intelligence (AI) for school-related tasks?': 'ai_school_use_frequency',\n",
    "    'On a scale from 1 to 5, how interested are you in pursuing a career in Artificial Intelligence?': 'interest_in_ai_career',\n",
    "    'Do you know what Chat-GPT is?': 'awareness_of_chat-gpt',\n",
    "    'What college are you in?': 'college'\n",
    "}\n",
    "data = data.rename(columns=new_column_names)"
   ]
  },
  {
   "cell_type": "code",
   "execution_count": 7,
   "id": "8bc2457b-034e-4aae-8598-6dc54c65509a",
   "metadata": {},
   "outputs": [
    {
     "data": {
      "text/html": [
       "<div>\n",
       "<style scoped>\n",
       "    .dataframe tbody tr th:only-of-type {\n",
       "        vertical-align: middle;\n",
       "    }\n",
       "\n",
       "    .dataframe tbody tr th {\n",
       "        vertical-align: top;\n",
       "    }\n",
       "\n",
       "    .dataframe thead th {\n",
       "        text-align: right;\n",
       "    }\n",
       "</style>\n",
       "<table border=\"1\" class=\"dataframe\">\n",
       "  <thead>\n",
       "    <tr style=\"text-align: right;\">\n",
       "      <th></th>\n",
       "      <th>response_timestamp</th>\n",
       "      <th>ai_knowledge_rating</th>\n",
       "      <th>ai_personal_use_frequency</th>\n",
       "      <th>ai_school_use_frequency</th>\n",
       "      <th>interest_in_ai_career</th>\n",
       "      <th>awareness_of_chat-gpt</th>\n",
       "      <th>college</th>\n",
       "    </tr>\n",
       "  </thead>\n",
       "  <tbody>\n",
       "    <tr>\n",
       "      <th>0</th>\n",
       "      <td>2023-03-31 19:59:11.443</td>\n",
       "      <td>5</td>\n",
       "      <td>5</td>\n",
       "      <td>5</td>\n",
       "      <td>5</td>\n",
       "      <td>Yes</td>\n",
       "      <td>Science, Engineering, &amp; Technology</td>\n",
       "    </tr>\n",
       "    <tr>\n",
       "      <th>1</th>\n",
       "      <td>2023-03-31 19:59:44.970</td>\n",
       "      <td>4</td>\n",
       "      <td>3</td>\n",
       "      <td>4</td>\n",
       "      <td>4</td>\n",
       "      <td>Yes</td>\n",
       "      <td>Science, Engineering, &amp; Technology</td>\n",
       "    </tr>\n",
       "    <tr>\n",
       "      <th>2</th>\n",
       "      <td>2023-03-31 20:06:24.653</td>\n",
       "      <td>3</td>\n",
       "      <td>3</td>\n",
       "      <td>5</td>\n",
       "      <td>1</td>\n",
       "      <td>No</td>\n",
       "      <td>Business</td>\n",
       "    </tr>\n",
       "    <tr>\n",
       "      <th>3</th>\n",
       "      <td>2023-03-31 20:10:54.939</td>\n",
       "      <td>4</td>\n",
       "      <td>3</td>\n",
       "      <td>5</td>\n",
       "      <td>2</td>\n",
       "      <td>Yes</td>\n",
       "      <td>Business</td>\n",
       "    </tr>\n",
       "    <tr>\n",
       "      <th>4</th>\n",
       "      <td>2023-03-31 20:14:34.488</td>\n",
       "      <td>5</td>\n",
       "      <td>2</td>\n",
       "      <td>1</td>\n",
       "      <td>5</td>\n",
       "      <td>Yes</td>\n",
       "      <td>Humanities &amp; Social Sciences</td>\n",
       "    </tr>\n",
       "  </tbody>\n",
       "</table>\n",
       "</div>"
      ],
      "text/plain": [
       "       response_timestamp  ai_knowledge_rating  ai_personal_use_frequency  \\\n",
       "0 2023-03-31 19:59:11.443                    5                          5   \n",
       "1 2023-03-31 19:59:44.970                    4                          3   \n",
       "2 2023-03-31 20:06:24.653                    3                          3   \n",
       "3 2023-03-31 20:10:54.939                    4                          3   \n",
       "4 2023-03-31 20:14:34.488                    5                          2   \n",
       "\n",
       "   ai_school_use_frequency  interest_in_ai_career awareness_of_chat-gpt  \\\n",
       "0                        5                      5                   Yes   \n",
       "1                        4                      4                   Yes   \n",
       "2                        5                      1                    No   \n",
       "3                        5                      2                   Yes   \n",
       "4                        1                      5                   Yes   \n",
       "\n",
       "                              college  \n",
       "0  Science, Engineering, & Technology  \n",
       "1  Science, Engineering, & Technology  \n",
       "2                            Business  \n",
       "3                            Business  \n",
       "4        Humanities & Social Sciences  "
      ]
     },
     "execution_count": 7,
     "metadata": {},
     "output_type": "execute_result"
    }
   ],
   "source": [
    "data.head()"
   ]
  },
  {
   "cell_type": "code",
   "execution_count": 8,
   "id": "1f6f1c51-44fe-4f40-a7b6-03427a70e734",
   "metadata": {},
   "outputs": [
    {
     "data": {
      "text/plain": [
       "college\n",
       "Science, Engineering, & Technology    103\n",
       "Business                               65\n",
       "Humanities & Social Sciences           39\n",
       "Nursing & Health Care                  16\n",
       "Education                              13\n",
       "Arts & Media                           12\n",
       "Theology                                7\n",
       "Business and education                  1\n",
       "Can you email Robert.loy@gcu.edu        1\n",
       "CreamAToligy                            1\n",
       "Name: count, dtype: int64"
      ]
     },
     "execution_count": 8,
     "metadata": {},
     "output_type": "execute_result"
    }
   ],
   "source": [
    "data['college'].value_counts()"
   ]
  },
  {
   "cell_type": "code",
   "execution_count": 9,
   "id": "3f60a055-9fb8-496b-ac4e-42c7500aa401",
   "metadata": {},
   "outputs": [],
   "source": [
    "filtered_colleges = data['college'].value_counts()[data['college'].value_counts() > 1].index\n",
    "data = data[data['college'].isin(filtered_colleges)]"
   ]
  },
  {
   "cell_type": "code",
   "execution_count": 10,
   "id": "f33c01fb-992e-45ec-8a25-b1ca0d16b61e",
   "metadata": {},
   "outputs": [
    {
     "data": {
      "text/html": [
       "<div>\n",
       "<style scoped>\n",
       "    .dataframe tbody tr th:only-of-type {\n",
       "        vertical-align: middle;\n",
       "    }\n",
       "\n",
       "    .dataframe tbody tr th {\n",
       "        vertical-align: top;\n",
       "    }\n",
       "\n",
       "    .dataframe thead th {\n",
       "        text-align: right;\n",
       "    }\n",
       "</style>\n",
       "<table border=\"1\" class=\"dataframe\">\n",
       "  <thead>\n",
       "    <tr style=\"text-align: right;\">\n",
       "      <th></th>\n",
       "      <th>response_timestamp</th>\n",
       "      <th>ai_knowledge_rating</th>\n",
       "      <th>ai_personal_use_frequency</th>\n",
       "      <th>ai_school_use_frequency</th>\n",
       "      <th>interest_in_ai_career</th>\n",
       "      <th>awareness_of_chat-gpt</th>\n",
       "      <th>college</th>\n",
       "    </tr>\n",
       "  </thead>\n",
       "  <tbody>\n",
       "    <tr>\n",
       "      <th>0</th>\n",
       "      <td>2023-03-31 19:59:11.443</td>\n",
       "      <td>5</td>\n",
       "      <td>5</td>\n",
       "      <td>5</td>\n",
       "      <td>5</td>\n",
       "      <td>1</td>\n",
       "      <td>Science, Engineering, &amp; Technology</td>\n",
       "    </tr>\n",
       "    <tr>\n",
       "      <th>1</th>\n",
       "      <td>2023-03-31 19:59:44.970</td>\n",
       "      <td>4</td>\n",
       "      <td>3</td>\n",
       "      <td>4</td>\n",
       "      <td>4</td>\n",
       "      <td>1</td>\n",
       "      <td>Science, Engineering, &amp; Technology</td>\n",
       "    </tr>\n",
       "    <tr>\n",
       "      <th>2</th>\n",
       "      <td>2023-03-31 20:06:24.653</td>\n",
       "      <td>3</td>\n",
       "      <td>3</td>\n",
       "      <td>5</td>\n",
       "      <td>1</td>\n",
       "      <td>0</td>\n",
       "      <td>Business</td>\n",
       "    </tr>\n",
       "    <tr>\n",
       "      <th>3</th>\n",
       "      <td>2023-03-31 20:10:54.939</td>\n",
       "      <td>4</td>\n",
       "      <td>3</td>\n",
       "      <td>5</td>\n",
       "      <td>2</td>\n",
       "      <td>1</td>\n",
       "      <td>Business</td>\n",
       "    </tr>\n",
       "    <tr>\n",
       "      <th>4</th>\n",
       "      <td>2023-03-31 20:14:34.488</td>\n",
       "      <td>5</td>\n",
       "      <td>2</td>\n",
       "      <td>1</td>\n",
       "      <td>5</td>\n",
       "      <td>1</td>\n",
       "      <td>Humanities &amp; Social Sciences</td>\n",
       "    </tr>\n",
       "  </tbody>\n",
       "</table>\n",
       "</div>"
      ],
      "text/plain": [
       "       response_timestamp  ai_knowledge_rating  ai_personal_use_frequency  \\\n",
       "0 2023-03-31 19:59:11.443                    5                          5   \n",
       "1 2023-03-31 19:59:44.970                    4                          3   \n",
       "2 2023-03-31 20:06:24.653                    3                          3   \n",
       "3 2023-03-31 20:10:54.939                    4                          3   \n",
       "4 2023-03-31 20:14:34.488                    5                          2   \n",
       "\n",
       "   ai_school_use_frequency  interest_in_ai_career  awareness_of_chat-gpt  \\\n",
       "0                        5                      5                      1   \n",
       "1                        4                      4                      1   \n",
       "2                        5                      1                      0   \n",
       "3                        5                      2                      1   \n",
       "4                        1                      5                      1   \n",
       "\n",
       "                              college  \n",
       "0  Science, Engineering, & Technology  \n",
       "1  Science, Engineering, & Technology  \n",
       "2                            Business  \n",
       "3                            Business  \n",
       "4        Humanities & Social Sciences  "
      ]
     },
     "execution_count": 10,
     "metadata": {},
     "output_type": "execute_result"
    }
   ],
   "source": [
    "data['awareness_of_chat-gpt'] = data['awareness_of_chat-gpt'].replace(['Yes', 'No'], [1, 0])\n",
    "data.head() "
   ]
  },
  {
   "cell_type": "code",
   "execution_count": 11,
   "id": "c2395301-2987-46f2-bf87-0426dea5a6b2",
   "metadata": {},
   "outputs": [
    {
     "data": {
      "text/plain": [
       "response_timestamp           0\n",
       "ai_knowledge_rating          0\n",
       "ai_personal_use_frequency    0\n",
       "ai_school_use_frequency      0\n",
       "interest_in_ai_career        0\n",
       "awareness_of_chat-gpt        0\n",
       "college                      0\n",
       "dtype: int64"
      ]
     },
     "execution_count": 11,
     "metadata": {},
     "output_type": "execute_result"
    }
   ],
   "source": [
    "data.isna().sum()"
   ]
  },
  {
   "cell_type": "code",
   "execution_count": 12,
   "id": "35ca6be8-c569-4147-8379-ddf7b9a688e2",
   "metadata": {},
   "outputs": [
    {
     "name": "stdout",
     "output_type": "stream",
     "text": [
      "The data contains 0 duplicate values\n"
     ]
    }
   ],
   "source": [
    "duplicate_values=data.duplicated().sum()\n",
    "print(f'The data contains {duplicate_values} duplicate values')"
   ]
  },
  {
   "cell_type": "code",
   "execution_count": 13,
   "id": "229c7e9e-8768-4a0a-ac86-50a552ecbd70",
   "metadata": {},
   "outputs": [
    {
     "name": "stdout",
     "output_type": "stream",
     "text": [
      "<class 'pandas.core.frame.DataFrame'>\n",
      "Index: 255 entries, 0 to 257\n",
      "Data columns (total 7 columns):\n",
      " #   Column                     Non-Null Count  Dtype         \n",
      "---  ------                     --------------  -----         \n",
      " 0   response_timestamp         255 non-null    datetime64[ns]\n",
      " 1   ai_knowledge_rating        255 non-null    int64         \n",
      " 2   ai_personal_use_frequency  255 non-null    int64         \n",
      " 3   ai_school_use_frequency    255 non-null    int64         \n",
      " 4   interest_in_ai_career      255 non-null    int64         \n",
      " 5   awareness_of_chat-gpt      255 non-null    int64         \n",
      " 6   college                    255 non-null    object        \n",
      "dtypes: datetime64[ns](1), int64(5), object(1)\n",
      "memory usage: 15.9+ KB\n"
     ]
    }
   ],
   "source": [
    "data.info()"
   ]
  },
  {
   "cell_type": "code",
   "execution_count": 14,
   "id": "5ae8edf3-6d04-41dd-9d8c-7b19ccb1070f",
   "metadata": {},
   "outputs": [
    {
     "name": "stdout",
     "output_type": "stream",
     "text": [
      "The dataset contains 255 rows and 7 columns\n"
     ]
    }
   ],
   "source": [
    "print(f'The dataset contains {data.shape[0]} rows and {data.shape[1]} columns')"
   ]
  },
  {
   "cell_type": "code",
   "execution_count": 15,
   "id": "c714bc8f-718c-4f69-9141-5d92c74451ca",
   "metadata": {},
   "outputs": [
    {
     "name": "stdout",
     "output_type": "stream",
     "text": [
      "All values in 'date' column are valid dates.\n"
     ]
    }
   ],
   "source": [
    "try:\n",
    "    data['response_timestamp'] = pd.to_datetime(data['response_timestamp'], format='mixed')\n",
    "    print(\"All values in 'date' column are valid dates.\")\n",
    "except ValueError as e:\n",
    "    print(\"Error:\", e)\n",
    "    print(\"There are non-date values present in the 'date' column.\")"
   ]
  },
  {
   "cell_type": "code",
   "execution_count": 16,
   "id": "f20e8d8f-59ac-4f22-b738-57ec3812e2c4",
   "metadata": {},
   "outputs": [],
   "source": [
    "def date_to_season(response_timestamp):\n",
    "    month = datetime.strptime(response_timestamp, \"%Y-%m-%d\").month\n",
    "    if month in [3, 4, 5]:\n",
    "        return \"Spring\"\n",
    "    elif month in [6, 7, 8]:\n",
    "        return \"Summer\"\n",
    "    elif month in [9, 10, 11]:\n",
    "        return \"Autumn\"\n",
    "    else:\n",
    "        return \"Winter\"\n",
    "data[\"season\"] = data[\"response_timestamp\"].apply(lambda x: date_to_season(x.strftime(\"%Y-%m-%d\")))"
   ]
  },
  {
   "cell_type": "code",
   "execution_count": 17,
   "id": "0db1162b-b91e-40de-8679-103f89c52c4b",
   "metadata": {},
   "outputs": [
    {
     "data": {
      "text/html": [
       "<div>\n",
       "<style scoped>\n",
       "    .dataframe tbody tr th:only-of-type {\n",
       "        vertical-align: middle;\n",
       "    }\n",
       "\n",
       "    .dataframe tbody tr th {\n",
       "        vertical-align: top;\n",
       "    }\n",
       "\n",
       "    .dataframe thead th {\n",
       "        text-align: right;\n",
       "    }\n",
       "</style>\n",
       "<table border=\"1\" class=\"dataframe\">\n",
       "  <thead>\n",
       "    <tr style=\"text-align: right;\">\n",
       "      <th></th>\n",
       "      <th>response_timestamp</th>\n",
       "      <th>ai_knowledge_rating</th>\n",
       "      <th>ai_personal_use_frequency</th>\n",
       "      <th>ai_school_use_frequency</th>\n",
       "      <th>interest_in_ai_career</th>\n",
       "      <th>awareness_of_chat-gpt</th>\n",
       "      <th>college</th>\n",
       "      <th>season</th>\n",
       "      <th>year</th>\n",
       "      <th>month</th>\n",
       "      <th>month_name</th>\n",
       "      <th>day</th>\n",
       "    </tr>\n",
       "  </thead>\n",
       "  <tbody>\n",
       "    <tr>\n",
       "      <th>253</th>\n",
       "      <td>2023-10-24 14:02:43.753</td>\n",
       "      <td>5</td>\n",
       "      <td>2</td>\n",
       "      <td>3</td>\n",
       "      <td>3</td>\n",
       "      <td>1</td>\n",
       "      <td>Science, Engineering, &amp; Technology</td>\n",
       "      <td>Autumn</td>\n",
       "      <td>2023</td>\n",
       "      <td>10</td>\n",
       "      <td>October</td>\n",
       "      <td>24</td>\n",
       "    </tr>\n",
       "    <tr>\n",
       "      <th>254</th>\n",
       "      <td>2023-10-24 14:22:30.477</td>\n",
       "      <td>4</td>\n",
       "      <td>3</td>\n",
       "      <td>2</td>\n",
       "      <td>2</td>\n",
       "      <td>1</td>\n",
       "      <td>Arts &amp; Media</td>\n",
       "      <td>Autumn</td>\n",
       "      <td>2023</td>\n",
       "      <td>10</td>\n",
       "      <td>October</td>\n",
       "      <td>24</td>\n",
       "    </tr>\n",
       "    <tr>\n",
       "      <th>255</th>\n",
       "      <td>2023-10-25 10:08:07.129</td>\n",
       "      <td>4</td>\n",
       "      <td>3</td>\n",
       "      <td>3</td>\n",
       "      <td>2</td>\n",
       "      <td>1</td>\n",
       "      <td>Science, Engineering, &amp; Technology</td>\n",
       "      <td>Autumn</td>\n",
       "      <td>2023</td>\n",
       "      <td>10</td>\n",
       "      <td>October</td>\n",
       "      <td>25</td>\n",
       "    </tr>\n",
       "    <tr>\n",
       "      <th>256</th>\n",
       "      <td>2023-11-06 08:52:20.994</td>\n",
       "      <td>4</td>\n",
       "      <td>3</td>\n",
       "      <td>2</td>\n",
       "      <td>2</td>\n",
       "      <td>1</td>\n",
       "      <td>Science, Engineering, &amp; Technology</td>\n",
       "      <td>Autumn</td>\n",
       "      <td>2023</td>\n",
       "      <td>11</td>\n",
       "      <td>November</td>\n",
       "      <td>6</td>\n",
       "    </tr>\n",
       "    <tr>\n",
       "      <th>257</th>\n",
       "      <td>2024-01-25 14:51:10.920</td>\n",
       "      <td>4</td>\n",
       "      <td>2</td>\n",
       "      <td>2</td>\n",
       "      <td>2</td>\n",
       "      <td>1</td>\n",
       "      <td>Science, Engineering, &amp; Technology</td>\n",
       "      <td>Winter</td>\n",
       "      <td>2024</td>\n",
       "      <td>1</td>\n",
       "      <td>January</td>\n",
       "      <td>25</td>\n",
       "    </tr>\n",
       "  </tbody>\n",
       "</table>\n",
       "</div>"
      ],
      "text/plain": [
       "         response_timestamp  ai_knowledge_rating  ai_personal_use_frequency  \\\n",
       "253 2023-10-24 14:02:43.753                    5                          2   \n",
       "254 2023-10-24 14:22:30.477                    4                          3   \n",
       "255 2023-10-25 10:08:07.129                    4                          3   \n",
       "256 2023-11-06 08:52:20.994                    4                          3   \n",
       "257 2024-01-25 14:51:10.920                    4                          2   \n",
       "\n",
       "     ai_school_use_frequency  interest_in_ai_career  awareness_of_chat-gpt  \\\n",
       "253                        3                      3                      1   \n",
       "254                        2                      2                      1   \n",
       "255                        3                      2                      1   \n",
       "256                        2                      2                      1   \n",
       "257                        2                      2                      1   \n",
       "\n",
       "                                college  season  year  month month_name  day  \n",
       "253  Science, Engineering, & Technology  Autumn  2023     10    October   24  \n",
       "254                        Arts & Media  Autumn  2023     10    October   24  \n",
       "255  Science, Engineering, & Technology  Autumn  2023     10    October   25  \n",
       "256  Science, Engineering, & Technology  Autumn  2023     11   November    6  \n",
       "257  Science, Engineering, & Technology  Winter  2024      1    January   25  "
      ]
     },
     "execution_count": 17,
     "metadata": {},
     "output_type": "execute_result"
    }
   ],
   "source": [
    "data['year'] = data['response_timestamp'].dt.year\n",
    "data['month'] = data['response_timestamp'].dt.month\n",
    "data['month_name'] = data['response_timestamp'].dt.month_name()\n",
    "data['day'] = data['response_timestamp'].dt.day\n",
    "data.tail()"
   ]
  },
  {
   "cell_type": "code",
   "execution_count": 18,
   "id": "8ad2a1b1-3520-4d06-a283-b6d7a83ff99e",
   "metadata": {},
   "outputs": [],
   "source": [
    "data = data.drop(columns=['response_timestamp'])"
   ]
  },
  {
   "cell_type": "code",
   "execution_count": 19,
   "id": "d31501f7-6bd9-4894-8a5b-83c15355cf4d",
   "metadata": {},
   "outputs": [
    {
     "data": {
      "text/html": [
       "<div>\n",
       "<style scoped>\n",
       "    .dataframe tbody tr th:only-of-type {\n",
       "        vertical-align: middle;\n",
       "    }\n",
       "\n",
       "    .dataframe tbody tr th {\n",
       "        vertical-align: top;\n",
       "    }\n",
       "\n",
       "    .dataframe thead th {\n",
       "        text-align: right;\n",
       "    }\n",
       "</style>\n",
       "<table border=\"1\" class=\"dataframe\">\n",
       "  <thead>\n",
       "    <tr style=\"text-align: right;\">\n",
       "      <th></th>\n",
       "      <th>ai_knowledge_rating</th>\n",
       "      <th>ai_personal_use_frequency</th>\n",
       "      <th>ai_school_use_frequency</th>\n",
       "      <th>interest_in_ai_career</th>\n",
       "      <th>awareness_of_chat-gpt</th>\n",
       "      <th>college</th>\n",
       "      <th>season</th>\n",
       "      <th>year</th>\n",
       "      <th>month</th>\n",
       "      <th>month_name</th>\n",
       "      <th>day</th>\n",
       "    </tr>\n",
       "  </thead>\n",
       "  <tbody>\n",
       "    <tr>\n",
       "      <th>253</th>\n",
       "      <td>5</td>\n",
       "      <td>2</td>\n",
       "      <td>3</td>\n",
       "      <td>3</td>\n",
       "      <td>1</td>\n",
       "      <td>Science, Engineering, &amp; Technology</td>\n",
       "      <td>Autumn</td>\n",
       "      <td>2023</td>\n",
       "      <td>10</td>\n",
       "      <td>October</td>\n",
       "      <td>24</td>\n",
       "    </tr>\n",
       "    <tr>\n",
       "      <th>254</th>\n",
       "      <td>4</td>\n",
       "      <td>3</td>\n",
       "      <td>2</td>\n",
       "      <td>2</td>\n",
       "      <td>1</td>\n",
       "      <td>Arts &amp; Media</td>\n",
       "      <td>Autumn</td>\n",
       "      <td>2023</td>\n",
       "      <td>10</td>\n",
       "      <td>October</td>\n",
       "      <td>24</td>\n",
       "    </tr>\n",
       "    <tr>\n",
       "      <th>255</th>\n",
       "      <td>4</td>\n",
       "      <td>3</td>\n",
       "      <td>3</td>\n",
       "      <td>2</td>\n",
       "      <td>1</td>\n",
       "      <td>Science, Engineering, &amp; Technology</td>\n",
       "      <td>Autumn</td>\n",
       "      <td>2023</td>\n",
       "      <td>10</td>\n",
       "      <td>October</td>\n",
       "      <td>25</td>\n",
       "    </tr>\n",
       "    <tr>\n",
       "      <th>256</th>\n",
       "      <td>4</td>\n",
       "      <td>3</td>\n",
       "      <td>2</td>\n",
       "      <td>2</td>\n",
       "      <td>1</td>\n",
       "      <td>Science, Engineering, &amp; Technology</td>\n",
       "      <td>Autumn</td>\n",
       "      <td>2023</td>\n",
       "      <td>11</td>\n",
       "      <td>November</td>\n",
       "      <td>6</td>\n",
       "    </tr>\n",
       "    <tr>\n",
       "      <th>257</th>\n",
       "      <td>4</td>\n",
       "      <td>2</td>\n",
       "      <td>2</td>\n",
       "      <td>2</td>\n",
       "      <td>1</td>\n",
       "      <td>Science, Engineering, &amp; Technology</td>\n",
       "      <td>Winter</td>\n",
       "      <td>2024</td>\n",
       "      <td>1</td>\n",
       "      <td>January</td>\n",
       "      <td>25</td>\n",
       "    </tr>\n",
       "  </tbody>\n",
       "</table>\n",
       "</div>"
      ],
      "text/plain": [
       "     ai_knowledge_rating  ai_personal_use_frequency  ai_school_use_frequency  \\\n",
       "253                    5                          2                        3   \n",
       "254                    4                          3                        2   \n",
       "255                    4                          3                        3   \n",
       "256                    4                          3                        2   \n",
       "257                    4                          2                        2   \n",
       "\n",
       "     interest_in_ai_career  awareness_of_chat-gpt  \\\n",
       "253                      3                      1   \n",
       "254                      2                      1   \n",
       "255                      2                      1   \n",
       "256                      2                      1   \n",
       "257                      2                      1   \n",
       "\n",
       "                                college  season  year  month month_name  day  \n",
       "253  Science, Engineering, & Technology  Autumn  2023     10    October   24  \n",
       "254                        Arts & Media  Autumn  2023     10    October   24  \n",
       "255  Science, Engineering, & Technology  Autumn  2023     10    October   25  \n",
       "256  Science, Engineering, & Technology  Autumn  2023     11   November    6  \n",
       "257  Science, Engineering, & Technology  Winter  2024      1    January   25  "
      ]
     },
     "execution_count": 19,
     "metadata": {},
     "output_type": "execute_result"
    }
   ],
   "source": [
    "data.tail()"
   ]
  },
  {
   "cell_type": "code",
   "execution_count": 24,
   "id": "85ec5c39-1823-4f17-a7a6-9fe008fef145",
   "metadata": {},
   "outputs": [
    {
     "data": {
      "image/png": "[encoded data removed]",
      "text/plain": [
       "<Figure size 1400x700 with 2 Axes>"
      ]
     },
     "metadata": {},
     "output_type": "display_data"
    }
   ],
   "source": [
    "college_counts = data['college'].value_counts()\n",
    "custom_palette = sns.color_palette('tab10', n_colors=7)\n",
    "fig, ax = plt.subplots(1, 2, figsize=(14, 7))\n",
    "sns.countplot(data=data, x='college', palette='viridis', ax=ax[0])\n",
    "ax[0].set_xlabel('Department of College')\n",
    "ax[0].set_ylabel('Count')\n",
    "ax[0].tick_params(axis='x', rotation=45, labelsize=8)  \n",
    "ax[0].set_xticklabels(ax[0].get_xticklabels(), ha='right')\n",
    "pie = ax[1].pie(college_counts, autopct='%1.2f%%', colors=custom_palette)  \n",
    "ax[1].legend(pie[0], college_counts.index, loc='lower center', bbox_to_anchor=(0.5, -0.5), ncol=2)  \n",
    "plt.suptitle('Count of Respondents by Department of College', fontsize=16, y=1.05)\n",
    "plt.tight_layout()\n",
    "plt.show()"
   ]
  },
  {
   "cell_type": "code",
   "execution_count": 25,
   "id": "32f588af-1f96-4e53-9c1c-960c16e6f3ac",
   "metadata": {},
   "outputs": [
    {
     "data": {
      "text/plain": [
       "season\n",
       "Spring    242\n",
       "Autumn     12\n",
       "Winter      1\n",
       "Name: count, dtype: int64"
      ]
     },
     "execution_count": 25,
     "metadata": {},
     "output_type": "execute_result"
    }
   ],
   "source": [
    "data['season'].value_counts()"
   ]
  },
  {
   "cell_type": "code",
   "execution_count": 26,
   "id": "3a193754-1660-47aa-bf23-879860d636ed",
   "metadata": {},
   "outputs": [
    {
     "data": {
      "image/png": "[encoded data removed]",
      "text/plain": [
       "<Figure size 640x480 with 1 Axes>"
      ]
     },
     "metadata": {},
     "output_type": "display_data"
    }
   ],
   "source": [
    "sns.set_style('whitegrid')\n",
    "sns.histplot(data=data, x='ai_knowledge_rating', bins=5, color='skyblue', edgecolor='black')\n",
    "plt.title('Distribution of AI Knowledge Ratings')\n",
    "plt.xlabel('AI Knowledge Rating')\n",
    "plt.ylabel('Frequency')\n",
    "plt.show()"
   ]
  },
  {
   "cell_type": "code",
   "execution_count": null,
   "id": "47320287-91c1-4849-87fa-da0b12d7a9cd",
   "metadata": {},
   "outputs": [],
   "source": [
    "columns = ['ai_personal_use_frequency', 'ai_school_use_frequency', 'awareness_of_chat-gpt']\n",
    "for column in columns:\n",
    "    column_title = column.replace('_', ' ').title()\n",
    "    # Plotting the bar chart\n",
    "    plt.figure(figsize=(8, 6))\n",
    "    sns.countplot(data=data, x=column, palette='viridis')\n",
    "\n",
    "    # Set labels and title\n",
    "    plt.xlabel('')\n",
    "    plt.ylabel('Count')\n",
    "    plt.title(f'Bar Chart for {column_title}', fontsize=16, y=1.05)\n",
    "\n",
    "    # Show the plot\n",
    "    plt.xticks(rotation=45)  # Rotate x-axis labels for better readability\n",
    "    plt.tight_layout()\n",
    "    plt.show()"
   ]
  },
  {
   "cell_type": "code",
   "execution_count": null,
   "id": "beb0ae75-b71d-4d5b-9cb9-a86d4e746f7b",
   "metadata": {},
   "outputs": [],
   "source": []
  },
  {
   "cell_type": "code",
   "execution_count": null,
   "id": "4fb7cf31-c4ae-4a4d-8f74-40e2fc5dfb53",
   "metadata": {},
   "outputs": [],
   "source": []
  },
  {
   "cell_type": "code",
   "execution_count": null,
   "id": "8b5e13fb-7d90-4edd-9278-b5ccdb96e874",
   "metadata": {},
   "outputs": [],
   "source": []
  },
  {
   "cell_type": "code",
   "execution_count": null,
   "id": "fa20b3e8-ef9c-4299-9845-17d5663467d6",
   "metadata": {},
   "outputs": [],
   "source": []
  },
  {
   "cell_type": "code",
   "execution_count": null,
   "id": "af277788-a95c-4fb7-baa6-e2945c869599",
   "metadata": {},
   "outputs": [],
   "source": []
  },
  {
   "cell_type": "code",
   "execution_count": null,
   "id": "c7cf5ff3-1b6a-4a9a-a5ae-43defaa70d09",
   "metadata": {},
   "outputs": [],
   "source": []
  }
 ],
 "metadata": {
  "kernelspec": {
   "display_name": "Python 3 (ipykernel)",
   "language": "python",
   "name": "python3"
  },
  "language_info": {
   "codemirror_mode": {
    "name": "ipython",
    "version": 3
   },
   "file_extension": ".py",
   "mimetype": "text/x-python",
   "name": "python",
   "nbconvert_exporter": "python",
   "pygments_lexer": "ipython3",
   "version": "3.11.7"
  }
 },
 "nbformat": 4,
 "nbformat_minor": 5
}
